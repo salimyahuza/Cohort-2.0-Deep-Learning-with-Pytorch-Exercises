# Create a random tensor with shape (7, 7)
import torch

# Create a random tensor with shape (7, 7)
random_tensor = torch.rand((7, 7))

print(random_tensor)


# Perform a matrix multiplication on the tensor from 2 with another random tensor with shape (1, 7)
import torch

# Create a random tensor with shape (7, 7)
tensor_a = torch.rand((7, 7))

# Create another random tensor with shape (1, 7)
tensor_b = torch.rand((1, 7))

# Transpose the second tensor to make it compatible for matrix multiplication
tensor_b_transposed = tensor_b.T

# Perform matrix multiplication
result = torch.matmul(tensor_a, tensor_b_transposed)

print("Tensor A:")
print(tensor_a)
print("\nTensor B:")
print(tensor_b)
print("\nTensor B Transposed:")
print(tensor_b_transposed)
print("\nResult of Matrix Multiplication:")
print(result)



# Setting the random seed to 0 and doing 2 & 3 over again
import torch

# Set the random seed for reproducibility
torch.manual_seed(0)

# Create a random tensor with shape (7, 7)
tensor_a = torch.rand((7, 7))

# Create another random tensor with shape (1, 7)
tensor_b = torch.rand((1, 7))

# Transpose the second tensor to make it compatible for matrix multiplication
tensor_b_transposed = tensor_b.T

# Perform matrix multiplication
result = torch.matmul(tensor_a, tensor_b_transposed)

print("Tensor A:")
print(tensor_a)
print("\nTensor B:")
print(tensor_b)
print("\nTensor B Transposed:")
print(tensor_b_transposed)
print("\nResult of Matrix Multiplication:")
print(result)


# There is a GPU equivalent for setting the random seed in PyTorch. We can use torch.cuda.manual_seed() to set the random seed for CUDA operations
import torch

# Set the random seed for CPU
torch.manual_seed(0)

# Set the random seed for GPU
torch.cuda.manual_seed(0)

# Create a random tensor with shape (7, 7)
tensor_a = torch.rand((7, 7))

# Create another random tensor with shape (1, 7)
tensor_b = torch.rand((1, 7))

# Transpose the second tensor to make it compatible for matrix multiplication
tensor_b_transposed = tensor_b.T

# Perform matrix multiplication
result = torch.matmul(tensor_a, tensor_b_transposed)

print("Tensor A:")
print(tensor_a)
print("\nTensor B:")
print(tensor_b)
print("\nTensor B Transposed:")
print(tensor_b_transposed)
print("\nResult of Matrix Multiplication:")
print(result)


# Creating two random tensors of shape (2, 3) and sending them to the GPU
import torch

# Set the random seed for reproducibility
torch.manual_seed(1234)

# Create two random tensors with shape (2, 3)
tensor1 = torch.rand((2, 3))
tensor2 = torch.rand((2, 3))

# Check if CUDA is available and send tensors to GPU
if torch.cuda.is_available():
    tensor1 = tensor1.to('cuda')
    tensor2 = tensor2.to('cuda')

print("Tensor 1 on GPU:")
print(tensor1)
print("\nTensor 2 on GPU:")
print(tensor2)


# Performing matrix multiplication on the tensors created in step 6
import torch

# Set the random seed for reproducibility
torch.manual_seed(1234)

# Create two random tensors with shape (2, 3)
tensor1 = torch.rand((2, 3))
tensor2 = torch.rand((2, 3))

# Check if CUDA is available and send tensors to GPU
if torch.cuda.is_available():
    tensor1 = tensor1.to('cuda')
    tensor2 = tensor2.to('cuda')

# Transpose the second tensor to make it compatible for matrix multiplication
tensor2_transposed = tensor2.T

# Perform matrix multiplication
result = torch.matmul(tensor1, tensor2_transposed)

print("Tensor 1 on GPU:")
print(tensor1)
print("\nTensor 2 on GPU:")
print(tensor2)
print("\nTensor 2 Transposed:")
print(tensor2_transposed)
print("\nResult of Matrix Multiplication:")
print(result)


# Find the maximum and minimum values of the output of 7
import torch

# Set the random seed for reproducibility
torch.manual_seed(1234)

# Create two random tensors with shape (2, 3)
tensor1 = torch.rand((2, 3))
tensor2 = torch.rand((2, 3))

# Check if CUDA is available and send tensors to GPU
if torch.cuda.is_available():
    tensor1 = tensor1.to('cuda')
    tensor2 = tensor2.to('cuda')

# Transpose the second tensor to make it compatible for matrix multiplication
tensor2_transposed = tensor2.T

# Perform matrix multiplication
result = torch.matmul(tensor1, tensor2_transposed)

# Find the maximum and minimum values of the result
max_value = torch.max(result)
min_value = torch.min(result)

print("Result of Matrix Multiplication:")
print(result)
print("\nMaximum value in the result:")
print(max_value)
print("\nMinimum value in the result:")
print(min_value)



# Find the maximum and minimum index values of the output of 7
import torch

# Set the random seed for reproducibility
torch.manual_seed(1234)

# Create two random tensors with shape (2, 3)
tensor1 = torch.rand((2, 3))
tensor2 = torch.rand((2, 3))

# Check if CUDA is available and send tensors to GPU
if torch.cuda.is_available():
    tensor1 = tensor1.to('cuda')
    tensor2 = tensor2.to('cuda')

# Transpose the second tensor to make it compatible for matrix multiplication
tensor2_transposed = tensor2.T

# Perform matrix multiplication
result = torch.matmul(tensor1, tensor2_transposed)

# Find the maximum and minimum index values of the result
max_index = torch.argmax(result)
min_index = torch.argmin(result)

print("Result of Matrix Multiplication:")
print(result)
print("\nMaximum index in the result:")
print(max_index)
print("\nMinimum index in the result:")
print(min_index)



# Make a random tensor with shape (1, 1, 1, 10) and then create a new tensor with all the 1 dimensions removed to be left with a tensor of shape (10).
# Set the seed to 7 when you create it and print out the first tensor and it's shape as well as the second tensor and it's shape
import torch

# Set the random seed for reproducibility
torch.manual_seed(7)

# Create a random tensor with shape (1, 1, 1, 10)
tensor = torch.rand((1, 1, 1, 10))

# Remove all the dimensions with size 1
tensor_squeezed = tensor.squeeze()

print("Original Tensor:")
print(tensor)
print("Shape of Original Tensor:", tensor.shape)

print("\nSqueezed Tensor:")
print(tensor_squeezed)
print("Shape of Squeezed Tensor:", tensor_squeezed.shape)

